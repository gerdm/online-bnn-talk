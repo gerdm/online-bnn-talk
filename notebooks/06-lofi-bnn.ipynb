{
 "cells": [
  {
   "cell_type": "markdown",
   "id": "7ddcb56e-18db-4325-9726-6d780f666ec4",
   "metadata": {},
   "source": [
    "# LoFi: Low-rank (extended) Kalman filter"
   ]
  },
  {
   "cell_type": "code",
   "execution_count": 1,
   "id": "be8458aa-676c-4471-bcb4-de26c49525ef",
   "metadata": {
    "tags": []
   },
   "outputs": [],
   "source": [
    "import jax\n",
    "import flax.linen as nn\n",
    "import jax.numpy as jnp\n",
    "import matplotlib.pyplot as plt"
   ]
  },
  {
   "cell_type": "code",
   "execution_count": 2,
   "id": "9136d9f6-bf20-4bab-b52b-e94cca3373b1",
   "metadata": {
    "tags": []
   },
   "outputs": [],
   "source": [
    "from rebayes_mini.methods import low_rank_filter as lofi"
   ]
  },
  {
   "cell_type": "code",
   "execution_count": 3,
   "id": "60387098-a3c1-449a-b345-c75d7162f4c5",
   "metadata": {
    "tags": []
   },
   "outputs": [],
   "source": [
    "%load_ext autoreload\n",
    "%autoreload 2\n",
    "%config InlineBackend.figure_format = \"retina\""
   ]
  },
  {
   "cell_type": "code",
   "execution_count": 4,
   "id": "6d46a88d-0dcf-4575-9aa9-72b89a327859",
   "metadata": {
    "tags": []
   },
   "outputs": [],
   "source": [
    "key = jax.random.PRNGKey(314)\n",
    "diag = jax.random.uniform(key, (10,))\n",
    "W = jax.random.normal(key, (10, 20))\n",
    "dyn = 0.3"
   ]
  },
  {
   "cell_type": "code",
   "execution_count": 5,
   "id": "7e4c0675-0cf4-470d-9564-6c309e742ea2",
   "metadata": {
    "tags": []
   },
   "outputs": [
    {
     "data": {
      "text/plain": [
       "Array([0.07444949, 0.07686263, 0.58481854, 0.33342364, 0.31272268,\n",
       "       0.6124436 , 0.40948197, 0.32819864, 0.53268456, 0.4249124 ],      dtype=float32)"
      ]
     },
     "execution_count": 5,
     "metadata": {},
     "output_type": "execute_result"
    }
   ],
   "source": [
    "diag_pred = 1 / (1 / diag + dyn)\n",
    "diag_pred"
   ]
  },
  {
   "cell_type": "code",
   "execution_count": 6,
   "id": "937d5d24-f53b-4c59-9bc8-f5e4fef8d925",
   "metadata": {
    "tags": []
   },
   "outputs": [
    {
     "data": {
      "text/plain": [
       "Array([ 15.17951   ,  31.687904  ,   0.47476912,  27.473309  ,\n",
       "        -2.2373953 ,  -0.28310037,  -0.5816016 ,   7.62045   ,\n",
       "        19.146309  ,   5.816488  ,   4.3553276 ,  -8.488842  ,\n",
       "        25.902523  ,   9.020243  ,  11.763821  ,  -5.0538864 ,\n",
       "       -25.545195  ,  -4.041623  ,  30.341537  ,   2.0045276 ],      dtype=float32)"
      ]
     },
     "execution_count": 6,
     "metadata": {},
     "output_type": "execute_result"
    }
   ],
   "source": [
    "(W.T @ jnp.diag(diag_pred) @ jnp.diag(1 / diag) @ W).sum(axis=0)"
   ]
  },
  {
   "cell_type": "code",
   "execution_count": 7,
   "id": "084e4445-d20e-46bb-be53-a71a977a59ac",
   "metadata": {
    "tags": []
   },
   "outputs": [
    {
     "data": {
      "text/plain": [
       "Array([ 15.227335  ,  31.653662  ,   0.5590105 ,  27.50296   ,\n",
       "        -2.227013  ,  -0.21534252,  -0.58198357,   7.592178  ,\n",
       "        19.10627   ,   5.8170905 ,   4.2841187 ,  -8.524591  ,\n",
       "        25.912235  ,   9.0385685 ,  11.78618   ,  -5.1031895 ,\n",
       "       -25.543436  ,  -4.0270414 ,  30.284472  ,   1.9885311 ],      dtype=float32)"
      ]
     },
     "execution_count": 7,
     "metadata": {},
     "output_type": "execute_result"
    }
   ],
   "source": [
    "jnp.einsum(\"ji,j,j,jk->ik\", W, diag_pred, 1 / diag, W).sum(axis=0)"
   ]
  },
  {
   "cell_type": "code",
   "execution_count": 8,
   "id": "407398d9-1ed7-4b1d-a062-444b7c72dfbb",
   "metadata": {
    "tags": []
   },
   "outputs": [],
   "source": [
    "C_inv = jnp.einsum(\"ji,j,j,jk->ik\", W, diag_pred, 1 / diag, W)"
   ]
  },
  {
   "cell_type": "code",
   "execution_count": 9,
   "id": "af96edd7-8e9b-4d1c-9de0-d62c0b2a4b59",
   "metadata": {
    "tags": []
   },
   "outputs": [
    {
     "data": {
      "text/plain": [
       "Array([ 186.09457 ,  212.62166 ,   79.07352 , -110.429886, -144.54663 ,\n",
       "       -188.22388 ,   56.556385,  103.65888 ,  -49.551247,  172.92783 ],      dtype=float32)"
      ]
     },
     "execution_count": 9,
     "metadata": {},
     "output_type": "execute_result"
    }
   ],
   "source": [
    "org = (jnp.diag(diag_pred) @ jnp.diag(1 / diag) @ W @ C_inv).sum(axis=1)\n",
    "org"
   ]
  },
  {
   "cell_type": "code",
   "execution_count": 10,
   "id": "d08d9f92-4c44-474c-9cf9-1b8ae4acba9c",
   "metadata": {
    "tags": []
   },
   "outputs": [
    {
     "data": {
      "text/plain": [
       "Array([ 186.57985 ,  213.61336 ,   79.079506, -109.92603 , -144.95905 ,\n",
       "       -187.01534 ,   56.58297 ,  103.55682 ,  -49.75179 ,  173.07147 ],      dtype=float32)"
      ]
     },
     "execution_count": 10,
     "metadata": {},
     "output_type": "execute_result"
    }
   ],
   "source": [
    "ein = jnp.einsum(\"i,i,ij,jk -> i\", diag_pred, 1 / diag, W, C_inv)\n",
    "ein"
   ]
  },
  {
   "cell_type": "code",
   "execution_count": 11,
   "id": "725bda5a-6052-4314-b266-48c70d91004a",
   "metadata": {
    "tags": []
   },
   "outputs": [
    {
     "data": {
      "text/plain": [
       "Array([[2.]], dtype=float32)"
      ]
     },
     "execution_count": 11,
     "metadata": {},
     "output_type": "execute_result"
    }
   ],
   "source": [
    "jnp.linalg.cholesky(jnp.array([[4]]))"
   ]
  },
  {
   "cell_type": "markdown",
   "id": "a0776f10-47df-4294-8316-5df6e6929cbf",
   "metadata": {},
   "source": [
    "## Moons' dataset"
   ]
  },
  {
   "cell_type": "code",
   "execution_count": 12,
   "id": "b21970be-53f8-41fc-b7a8-72044ddfde50",
   "metadata": {
    "tags": []
   },
   "outputs": [],
   "source": [
    "from sklearn.datasets import make_moons"
   ]
  },
  {
   "cell_type": "code",
   "execution_count": 13,
   "id": "24ddee5a-6e72-4a0e-b15b-4424044313f5",
   "metadata": {
    "tags": []
   },
   "outputs": [],
   "source": [
    "n_samples = 500\n",
    "n_test = 300\n",
    "data = make_moons(n_samples=(n_samples + n_test), random_state=3141, noise=0.15)\n",
    "X, y = jax.tree_map(jnp.array, data)\n",
    "X_test, y_test = X[-n_test:], y[-n_test:]\n",
    "X, y = X[:-n_test], y[:-n_test]\n",
    "\n",
    "key = jax.random.PRNGKey(314)"
   ]
  },
  {
   "cell_type": "code",
   "execution_count": 187,
   "id": "98710f40-0645-49ac-ab94-f648928806f9",
   "metadata": {
    "tags": []
   },
   "outputs": [
    {
     "name": "stdout",
     "output_type": "stream",
     "text": [
      "CPU times: user 35.7 ms, sys: 1.15 ms, total: 36.8 ms\n",
      "Wall time: 21.8 ms\n"
     ]
    }
   ],
   "source": [
    "%%time\n",
    "class MLP(nn.Module):\n",
    "    @nn.compact\n",
    "    def __call__(self, x):\n",
    "        x = nn.Dense(50)(x)\n",
    "        x = nn.relu(x)\n",
    "        x = nn.Dense(50)(x)\n",
    "        x = nn.relu(x)\n",
    "        x = nn.Dense(50)(x)\n",
    "        x = nn.relu(x)\n",
    "        x = nn.Dense(1)(x)\n",
    "        return x # sklearn\n",
    "\n",
    "\n",
    "model = MLP()\n",
    "params = model.init(key, X)"
   ]
  },
  {
   "cell_type": "code",
   "execution_count": 188,
   "id": "5698e805-287d-41e1-be08-ad6730caf005",
   "metadata": {
    "tags": []
   },
   "outputs": [],
   "source": [
    "agent = lofi.BernoulliFilter(\n",
    "    model.apply,\n",
    "    dynamics_covariance=1e-7\n",
    ")"
   ]
  },
  {
   "cell_type": "code",
   "execution_count": 204,
   "id": "8f11b7e8-5812-4189-affb-7475069ec456",
   "metadata": {
    "tags": []
   },
   "outputs": [],
   "source": [
    "bel_init = agent.init_bel(params, cov=0.1)\n",
    "bel_pred = agent._predict(bel_init)\n",
    "bel_update = agent._update(bel_pred, X[0], y[0])"
   ]
  },
  {
   "cell_type": "code",
   "execution_count": 219,
   "id": "abe1c763-3f68-4eca-9f3d-f4878c1d9402",
   "metadata": {
    "tags": []
   },
   "outputs": [
    {
     "data": {
      "text/plain": [
       "LoFiState(mean=Array([0.48382032, 0.        , 0.        , ..., 0.00447403, 4.289242  ,\n",
       "       0.06426697], dtype=float32), diagonal=Array([0.1, 0.1, 0.1, ..., 0.1, 0.1, 0.1], dtype=float32), low_rank=Array([[0.06140734, 0.        , 0.        , ..., 0.        , 0.        ,\n",
       "        0.        ],\n",
       "       [0.        , 0.        , 0.        , ..., 0.        , 0.        ,\n",
       "        0.        ],\n",
       "       [0.        , 0.        , 0.        , ..., 0.        , 0.        ,\n",
       "        0.        ],\n",
       "       ...,\n",
       "       [0.        , 0.        , 0.        , ..., 0.        , 0.        ,\n",
       "        0.        ],\n",
       "       [0.5240219 , 0.        , 0.        , ..., 0.        , 0.        ,\n",
       "        0.        ],\n",
       "       [0.        , 0.        , 0.        , ..., 0.        , 0.        ,\n",
       "        0.        ]], dtype=float32))"
      ]
     },
     "execution_count": 219,
     "metadata": {},
     "output_type": "execute_result"
    }
   ],
   "source": [
    "bel = agent.init_bel(params, cov=0.1)\n",
    "bel, _ = agent.step(bel, (X[0], y[0]), callback_fn=callbacks.get_null)\n",
    "bel"
   ]
  },
  {
   "cell_type": "code",
   "execution_count": 222,
   "id": "37c65010-6536-451b-9e49-2f6191559778",
   "metadata": {
    "tags": []
   },
   "outputs": [],
   "source": [
    "bel, _ = agent.step(bel, (X[1], y[1]), callback_fn=callbacks.get_null)"
   ]
  },
  {
   "cell_type": "code",
   "execution_count": 223,
   "id": "124be6b3-4b5f-4836-bc31-b233f8bf63ae",
   "metadata": {
    "tags": []
   },
   "outputs": [
    {
     "data": {
      "text/plain": [
       "LoFiState(mean=Array([nan, nan, nan, ..., nan, nan, nan], dtype=float32), diagonal=Array([nan, nan, nan, ..., nan, nan, nan], dtype=float32), low_rank=Array([[nan, nan, nan, ..., nan, nan, nan],\n",
       "       [nan, nan, nan, ..., nan, nan, nan],\n",
       "       [nan, nan, nan, ..., nan, nan, nan],\n",
       "       ...,\n",
       "       [nan, nan, nan, ..., nan, nan, nan],\n",
       "       [nan, nan, nan, ..., nan, nan, nan],\n",
       "       [nan, nan, nan, ..., nan, nan, nan]], dtype=float32))"
      ]
     },
     "execution_count": 223,
     "metadata": {},
     "output_type": "execute_result"
    }
   ],
   "source": [
    "bel"
   ]
  },
  {
   "cell_type": "code",
   "execution_count": 191,
   "id": "4eef1a58-c796-49ff-a3b1-740169efdbf8",
   "metadata": {
    "tags": []
   },
   "outputs": [],
   "source": [
    "from rebayes_mini import callbacks"
   ]
  },
  {
   "cell_type": "code",
   "execution_count": 192,
   "id": "3759d238-f1dc-4ca4-bbbc-7cd79587426a",
   "metadata": {
    "tags": []
   },
   "outputs": [],
   "source": [
    "bel, bel_hist = agent.scan(bel_init, y, X, callbacks.get_updated_mean)\n",
    "bel = jax.block_until_ready(bel)"
   ]
  },
  {
   "cell_type": "code",
   "execution_count": 193,
   "id": "a179d137-22ec-4008-85ae-e29bc24532c2",
   "metadata": {
    "tags": []
   },
   "outputs": [
    {
     "data": {
      "text/plain": [
       "LoFiState(mean=Array([nan, nan, nan, ..., nan, nan, nan], dtype=float32), diagonal=Array([nan, nan, nan, ..., nan, nan, nan], dtype=float32), low_rank=Array([[nan, nan, nan, ..., nan, nan, nan],\n",
       "       [nan, nan, nan, ..., nan, nan, nan],\n",
       "       [nan, nan, nan, ..., nan, nan, nan],\n",
       "       ...,\n",
       "       [nan, nan, nan, ..., nan, nan, nan],\n",
       "       [nan, nan, nan, ..., nan, nan, nan],\n",
       "       [nan, nan, nan, ..., nan, nan, nan]], dtype=float32))"
      ]
     },
     "execution_count": 193,
     "metadata": {},
     "output_type": "execute_result"
    }
   ],
   "source": [
    "bel"
   ]
  }
 ],
 "metadata": {
  "kernelspec": {
   "display_name": "research",
   "language": "python",
   "name": "research"
  },
  "language_info": {
   "codemirror_mode": {
    "name": "ipython",
    "version": 3
   },
   "file_extension": ".py",
   "mimetype": "text/x-python",
   "name": "python",
   "nbconvert_exporter": "python",
   "pygments_lexer": "ipython3",
   "version": "3.10.12"
  }
 },
 "nbformat": 4,
 "nbformat_minor": 5
}
