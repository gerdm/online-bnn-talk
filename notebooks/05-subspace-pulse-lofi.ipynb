{
 "cells": [
  {
   "cell_type": "markdown",
   "id": "09c1158e-d660-48f1-84ab-526f9ae766aa",
   "metadata": {},
   "source": [
    "# Subspace v.s. PULSE"
   ]
  },
  {
   "cell_type": "code",
   "execution_count": 35,
   "id": "d2723636-8428-49d5-ab22-c4854e2a89fb",
   "metadata": {
    "tags": []
   },
   "outputs": [],
   "source": [
    "import jax\n",
    "import keras\n",
    "import einops\n",
    "import jax.numpy as jnp\n",
    "import flax.linen as nn\n",
    "import matplotlib.pyplot as plt"
   ]
  },
  {
   "cell_type": "code",
   "execution_count": 6,
   "id": "6786d87f-e091-4222-a16d-7a9f88442268",
   "metadata": {
    "tags": []
   },
   "outputs": [],
   "source": [
    "from rebayes_mini import callbacks\n",
    "from rebayes_mini.methods import subspace_filter"
   ]
  },
  {
   "cell_type": "code",
   "execution_count": 7,
   "id": "849b9a77-e404-40f3-afd1-85b3bc26469d",
   "metadata": {
    "tags": []
   },
   "outputs": [],
   "source": [
    "%config InlineBackend.figure_format = \"retina\""
   ]
  },
  {
   "cell_type": "code",
   "execution_count": null,
   "id": "5b59a05d-fc5f-4d7c-bb66-7de4ff8623b9",
   "metadata": {},
   "outputs": [],
   "source": [
    "key = jax.random.PRNGKey(314)"
   ]
  },
  {
   "cell_type": "code",
   "execution_count": 41,
   "id": "9e709396-3dea-4f69-a9bd-b1c3396df55e",
   "metadata": {
    "tags": []
   },
   "outputs": [],
   "source": [
    "(X_train, y_train), (X_test, y_test) = keras.datasets.fashion_mnist.load_data()\n",
    "X_train = X_train / jnp.max(X_train)\n",
    "X_test = X_test / jnp.max(X_test)\n",
    "\n",
    "X_train = einops.rearrange(X_train, \"samples width height -> samples (width height)\")\n",
    "X_test = einops.rearrange(X_test, \"samples width height -> samples (width height)\")"
   ]
  },
  {
   "cell_type": "code",
   "execution_count": 44,
   "id": "876b4a4f-187c-40c3-997c-a19cc937b8c1",
   "metadata": {
    "tags": []
   },
   "outputs": [
    {
     "data": {
      "image/png": "[encoded data removed]",
      "text/plain": [
       "<Figure size 640x480 with 1 Axes>"
      ]
     },
     "metadata": {
      "image/png": {
       "height": 389,
       "width": 389
      }
     },
     "output_type": "display_data"
    }
   ],
   "source": [
    "plt.imshow(X_train[3].reshape(28, 28), cmap=\"bone\")\n",
    "plt.axis(\"off\");"
   ]
  },
  {
   "cell_type": "code",
   "execution_count": 54,
   "id": "9c4b46b7-9d62-43d1-89ed-c998553f3f07",
   "metadata": {
    "tags": []
   },
   "outputs": [],
   "source": [
    "@subspace_filter.subcify\n",
    "class NNet(nn.Module):\n",
    "    @nn.compact\n",
    "    def __call__(self, x):\n",
    "        x = nn.Dense(100)(x)\n",
    "        x = nn.relu(x)\n",
    "        x = nn.Dense(100)(x)\n",
    "        x = nn.relu(x)\n",
    "        x = nn.Dense(10)(x)\n",
    "        return x"
   ]
  },
  {
   "cell_type": "code",
   "execution_count": 55,
   "id": "c78de850-d51b-49f4-ad46-1f9b9261b72f",
   "metadata": {
    "tags": []
   },
   "outputs": [],
   "source": [
    "dim_in = 28 ** 2\n",
    "dim_subspace = 20\n",
    "model = NNet(dim_in, dim_subspace)"
   ]
  },
  {
   "cell_type": "code",
   "execution_count": 56,
   "id": "4e4a0643-cb3f-4480-ab40-4efd22356a43",
   "metadata": {
    "tags": []
   },
   "outputs": [
    {
     "data": {
      "text/plain": [
       "(60000, 784)"
      ]
     },
     "execution_count": 56,
     "metadata": {},
     "output_type": "execute_result"
    }
   ],
   "source": [
    "X_train.shape"
   ]
  },
  {
   "cell_type": "code",
   "execution_count": 57,
   "id": "b66893b9-b9ba-4a7e-8efd-9775e7f30093",
   "metadata": {
    "tags": []
   },
   "outputs": [
    {
     "data": {
      "text/plain": [
       "{'fixed': {'P': (89610, 20), 'b': (89610,)}, 'params': {'subspace': (20,)}}"
      ]
     },
     "execution_count": 57,
     "metadata": {},
     "output_type": "execute_result"
    }
   ],
   "source": [
    "params_init = model.init(key, X_train[0])\n",
    "jax.tree_map(jnp.shape, params_init)"
   ]
  },
  {
   "cell_type": "code",
   "execution_count": 60,
   "id": "086370ab-3592-43e6-8dae-fc17640ad779",
   "metadata": {
    "tags": []
   },
   "outputs": [],
   "source": [
    "p_fixed = params_init[\"fixed\"]\n",
    "\n",
    "def applyfn(p_subspace, X):\n",
    "    pfull = {\n",
    "        \"fixed\": p_fixed,\n",
    "        \"params\": p_subspace\n",
    "    }\n",
    "    return model.apply(pfull, X)\n"
   ]
  },
  {
   "cell_type": "code",
   "execution_count": 61,
   "id": "a06ab54e-1938-4ade-b440-c2a7b0177654",
   "metadata": {
    "tags": []
   },
   "outputs": [
    {
     "data": {
      "text/plain": [
       "Array([ 0.00230099, -0.00598955,  0.00264122, -0.00349194,  0.00866351,\n",
       "        0.01741693, -0.01650017,  0.00850966, -0.01609809, -0.00547172],      dtype=float32)"
      ]
     },
     "execution_count": 61,
     "metadata": {},
     "output_type": "execute_result"
    }
   ],
   "source": [
    "applyfn(params_init[\"params\"], X_train[0])"
   ]
  },
  {
   "cell_type": "code",
   "execution_count": 58,
   "id": "3c6e1aa0-1517-4dac-8152-cb7471f0b1a4",
   "metadata": {
    "tags": []
   },
   "outputs": [
    {
     "data": {
      "text/plain": [
       "Array([ 0.00230099, -0.00598955,  0.00264122, -0.00349194,  0.00866351,\n",
       "        0.01741693, -0.01650017,  0.00850966, -0.01609809, -0.00547172],      dtype=float32)"
      ]
     },
     "execution_count": 58,
     "metadata": {},
     "output_type": "execute_result"
    }
   ],
   "source": [
    "model.apply(params_init, X_train[0])"
   ]
  }
 ],
 "metadata": {
  "kernelspec": {
   "display_name": "research",
   "language": "python",
   "name": "research"
  },
  "language_info": {
   "codemirror_mode": {
    "name": "ipython",
    "version": 3
   },
   "file_extension": ".py",
   "mimetype": "text/x-python",
   "name": "python",
   "nbconvert_exporter": "python",
   "pygments_lexer": "ipython3",
   "version": "3.10.12"
  }
 },
 "nbformat": 4,
 "nbformat_minor": 5
}
